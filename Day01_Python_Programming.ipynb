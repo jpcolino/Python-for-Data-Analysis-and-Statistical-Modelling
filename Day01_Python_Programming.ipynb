{
 "metadata": {
  "name": ""
 },
 "nbformat": 3,
 "nbformat_minor": 0,
 "worksheets": [
  {
   "cells": [
    {
     "cell_type": "heading",
     "level": 1,
     "metadata": {},
     "source": [
      "Python for Data Analysis and Statistical Modelling\n"
     ]
    },
    {
     "cell_type": "markdown",
     "metadata": {},
     "source": [
      "A 8h. Journey in **Python for Data Analysis and Statistical Modelling**\n",
      "\n",
      "- **Day 01**: *Python Programming Fundamentals for Data Analysis* (26th.Nov from 6 to 8pm)\n",
      "- **Day 02**: *Data Wrangling, Cleaning and Exploration* with **pandas** (3th.Dec from 6 to 8pm)\n",
      "- **Day 03**: *Data Analysis and Statistical Modelling* with **Scikit-learn**(10th.Dec from 6 to 8pm)\n",
      "- **Day 04**: *Projects Presentations* and *Pizza and Beers* (8th.Jan from 6 to 8pm)\n"
     ]
    },
    {
     "cell_type": "markdown",
     "metadata": {},
     "source": [
      "\n",
      "Documention prepared by **Jesus Perez Colino**.\n",
      "Version 0.1, Released 25/11/2013, Alpha\n",
      "\n",
      "- This work is licensed under a [Creative Commons Attribution-ShareAlike 3.0 Unported License](http://creativecommons.org/licenses/by-sa/3.0/deed.en_US)\n",
      "- Meaning that this documention is **FREE** as in beer and speach.\n"
     ]
    },
    {
     "cell_type": "markdown",
     "metadata": {},
     "source": [
      "<h1><p><strong>Day 01</strong>: Python Programming Fundamentals for Data Analysis </p></h1>"
     ]
    },
    {
     "cell_type": "markdown",
     "metadata": {},
     "source": [
      "#Outline\n",
      "\n",
      "* Some Basics before to start\n",
      "* Getting Starting with Python\n",
      "* Python Overview\n",
      "    - Python as Calculator\n",
      "    - Data Structures\n",
      "    - Control Flow\n",
      "    - Functions\n",
      "    - Classes\n",
      "* Reading and Writing data\n",
      "* Plotting with Matplotlib\n",
      "* Numpy and Scipy: Computing with vectors and matrices\n"
     ]
    },
    {
     "cell_type": "markdown",
     "metadata": {},
     "source": [
      "# Some Basics before to start"
     ]
    },
    {
     "cell_type": "markdown",
     "metadata": {},
     "source": [
      "## Why Python for Data Analysis?\n",
      "\n",
      "- Python is great for scripting and applications.\n",
      "- The `pandas` library offers improved Time Series and Data Framework support.\n",
      "- Easy Web Scraping, web APIs\n",
      "- Strong High Performance Computation support\n",
      "    - Load balanceing tasks\n",
      "    - MPI, GPU\n",
      "    - MapReduce\n",
      "- Strong support for abstraction\n",
      "    - Intel MKL\n",
      "    - HDF5\n",
      "- IPhyton (Notebook) for presentation and communication of 'reproducible' results"
     ]
    },
    {
     "cell_type": "markdown",
     "metadata": {},
     "source": [
      "\n",
      "## Why not Python?\n",
      "\n",
      "- R, MATLAB are great... and C++ is still the King. [Julia](http://julialang.org/) is promising.\n",
      "- Slow compared with C++ or Fortran\n",
      "- Visualization\n",
      "    - Matplotlib is 10 years old now\n",
      "    - [Rob Story's vicent](https://github.com/wrobstory/vincent)\n",
      "    - [Bokeh](https://github.com/ContinuumIO/Bokeh)\n",
      "    - R's ggplot2 is amazing"
     ]
    },
    {
     "cell_type": "markdown",
     "metadata": {},
     "source": [
      "## References\n",
      " \n",
      "There is a huge amount of info and examples in Internet. I didn't come up with all the examples!\n",
      " \n",
      "- [Python Tutorial](http://docs.python.org/2/tutorial/)\n",
      "- [Learn Python the Hard Way](http://learnpythonthehardway.org/)\n",
      "- [IPython notebook documentation](http://ipython.org/notebook.html) or the [IPython tutorial](http://ipython.org/ipython-doc/dev/interactive/tutorial.html)\n",
      "- [Python for Data Analysis](http://shop.oreilly.com/product/0636920023784.do)\n",
      "- [J.R. Johansson's Lectures in Scientific Computing](http://dml.riken.jp/~rob/), [excellent notebooks](http://jrjohansson.github.io/), including [Scientific Computing with Python](https://github.com/jrjohansson/scientific-python-lectures) and [Computational Quantum Physics with QuTiP](https://github.com/jrjohansson/qutip-lectures) lectures;\n",
      "- [XKCD style graphs in matplotlib](http://nbviewer.ipython.org/url/jakevdp.github.com/downloads/notebooks/XKCD_plots.ipynb);\n",
      "- [A collection of Notebooks for using IPython effectively](https://github.com/ipython/ipython/tree/master/examples/notebooks#a-collection-of-notebooks-for-using-ipython-effectively)\n",
      "- [A gallery of interesting IPython Notebooks](https://github.com/ipython/ipython/wiki/A-gallery-of-interesting-IPython-Notebooks)\n"
     ]
    },
    {
     "cell_type": "markdown",
     "metadata": {},
     "source": [
      "## What You Need to Install\n",
      "\n",
      "To do this course, you need a Python package installed that should includes:\n",
      "\n",
      "* [Python](http://www.python.org) version 2.7;\n",
      "* [Numpy](http://www.numpy.org), the core numerical extensions for linear algebra and multidimensional arrays;\n",
      "* [Scipy](http://www.scipy.org), additional libraries for scientific programming;\n",
      "* [Matplotlib](http://matplotlib.sf.net), excellent plotting and graphing libraries;\n",
      "* [Pandas](http://pandas.pydata.org), easy-to-use data structures and data analysis tools;\n",
      "* [Scikit-Learn](http://scikit-learn.org/stable/), for statisitcal modelling and machine learning;\n",
      "* [IPython](http://ipython.org), with the additional libraries required for the notebook interface.\n",
      "\n",
      "An easy to install for Mac, Windows, and Linux, with all these packages is the [Anaconda Python Distribution](https://store.continuum.io/cshop/anaconda/), from [Continuum Analytics](http://continuum.io/) \n",
      "\n",
      "Alternatives:\n",
      "\n",
      "* **Linux:** Most distributions have an installation manager. Redhat has yum, Ubuntu has apt-get.\n",
      "\n",
      "* **Mac:** [Macports](http://www.macports.org/)\n",
      "\n",
      "* **Windows:** [Anaconda](https://store.continuum.io/cshop/anaconda/), [PythonXY](https://code.google.com/p/pythonxy/) or [Canopy](https://www.enthought.com/store/)\n",
      "\n",
      "* **Cloud:** Check out [Wakari](http://www.wakari.io), from [Continuum Analytics](http://continuum.io/), which is a cloud-based IPython notebook. \n",
      "\n",
      "\n",
      "Let us check, first, if every package is correctly installed in your computer.\n",
      "Go to the **next cell**, click on with the mouse and press **Shift-Intro** to execute the next cell.\n"
     ]
    },
    {
     "cell_type": "code",
     "collapsed": false,
     "input": [
      "%matplotlib inline\n",
      "import os\n",
      "import math\n",
      "import IPython\n",
      "import time as t\n",
      "import numpy as np\n",
      "import pandas as pd\n",
      "from sys import version\n",
      "import matplotlib.pyplot as plt\n",
      "import matplotlib as mpl \n",
      "#os.chdir('C:\\\\Users\\\\Suso')\n",
      "print '='*130\n",
      "print 'Python version:     ' + version\n",
      "print 'Numpy version:      ' + np.__version__\n",
      "print 'Pandas version:     ' + pd.__version__\n",
      "print 'Matplotlib ver:     ' + mpl.__version__\n",
      "print 'IPython version:    ' + IPython.__version__\n",
      "direct = %pwd\n",
      "print 'Working directory:  ' + direct\n",
      "print '='*130\n",
      "now = t.asctime()\n",
      "print 'Today is ' + now + ' ... AND WE ARE READY TO GO!! '\n",
      "print '='*130"
     ],
     "language": "python",
     "metadata": {},
     "outputs": [
      {
       "output_type": "stream",
       "stream": "stdout",
       "text": [
        "==================================================================================================================================\n",
        "Python version:     2.7.5 |Anaconda 1.7.0 (32-bit)| (default, Jul  1 2013, 12:41:55) [MSC v.1500 32 bit (Intel)]\n",
        "Numpy version:      1.7.1\n",
        "Pandas version:     0.12.0\n",
        "Matplotlib ver:     1.3.0\n",
        "IPython version:    1.0.0\n",
        "Working directory:  C:\\Users\\Suso\n",
        "==================================================================================================================================\n",
        "Today is Sun Nov 24 16:14:47 2013 ... AND WE ARE READY TO GO!! \n",
        "==================================================================================================================================\n"
       ]
      }
     ],
     "prompt_number": 196
    },
    {
     "cell_type": "markdown",
     "metadata": {},
     "source": [
      "#Getting Started with Python\n",
      "\n",
      "<img src=http://gearpatrol.com/wp-content/uploads/2013/05/tom-hanks-castaway-fire.jpg>\n",
      "\n",
      "<blockquote>\n",
      "<p>\n",
      "\"Let us change our traditional attitude to the construction of programs: </p>\n",
      "<p>Instead of imagining that our main task is to instruct a computer what to do, </p>\n",
      "<p>let us concentrate rather on explaining to humans what we want the computer to do.\"</p> \n",
      "<p><strong>Donald E. Knuth</strong> <em>Literate Programming</em>, 1984</p>\n",
      "</blockquote>\n"
     ]
    },
    {
     "cell_type": "markdown",
     "metadata": {},
     "source": [
      "##What is Python?\n",
      "\n",
      "[Python](http://www.python.org/) is a  general-purpose, high-level and multi-paradigm programming language. \n",
      "\n",
      "Its design philosophy emphasizes code readability, and its syntax allows programmers to express concepts in fewer lines of code than would be possible in languages such as C++.\n",
      "\n",
      "* Simple, clean syntax\n",
      "* Easy to learn\n",
      "* Interpreted or Compiled\n",
      "* Dynamically typed\n",
      "* Multi-platform: Linux, Mac, and Windows\n",
      "* [Free](http://www.fsf.org/), as in beer and speach\n",
      "* Expressive: do more with fewer lines of code\n",
      "* Lean: **modules**\n",
      "\n",
      "##History\n",
      "\n",
      "* Created by Dutch programmer **Guido van Rossum**, 1989, declared *Benevolent Dictator for Life (BDFL)* by Python community.\n",
      "* Conceived as a successor to ABC language and interfacing with Amoeba distributed OS.\n",
      "* Initially the syntax came from `C`, but with less exceptions and special cases\n",
      "* **Multi-paradigm**: accept object-oriented, structured and functional programming \n",
      "* It brings from `LISP` (functional prog.) the `lambda`, `reduce`, `filter`, and `map`\n",
      "* `Modula-3` inspired keyword arguments and `imports`\n",
      "* **`Python 2.0`** was released on Oct-2000, with many major new features including a full garbage collector and support for Unicode. \n",
      "* **`Python 3.0`** was a backwards-incompatible version released on Dec-2008. Many of its major features have been backported to the backwards-compatible `Python 2.6` and `Python 2.7`\n",
      "\n",
      "##What can you do with Python?\n",
      "\n",
      "* Scripting lanugage\n",
      "    - os support\n",
      "    - glue existing applications\n",
      "* Scientific abstraction\n",
      "    - Use highly optimized C and Fortran libraies\n",
      "    - Intel MKL, HDF5, Blas, Lapack, MPI, Cuda\n",
      "* Data Analysis\n",
      "* Visualization\n",
      "* Scrape websites\n",
      "* Build websites\n",
      "* Anything!\n",
      "\n",
      "##Performance\n",
      "\n",
      "* Minimal time required to develop code\n",
      "* Rapid protoytping\n",
      "* Interpreted and dynamically typed means it's slower\n",
      "    - Use optimized libraries: e.g. <a href=\"https://http://www.numpy.org\"> numpy </a>, <a href=\"https://http://scipy.org\"> scipy </a>\n",
      "    - Find the bottleneck and write it in C/C++/Fortran: e.g. <a href=\"http://www.scipy.org/F2py\"> f2py</a>, <a href=\"http://docs.cython.org/\">cython</a>\n",
      "    - Just-in-time: e.g. <a href=\"http://numba.pydata.org/\">numba</a>\n",
      "* Implementing the built-in Python modules would require some advanced programming skills in other languages\n",
      "\n",
      "##Advantages\n",
      "\n",
      "* Interpretive\n",
      "* Named function arguments\n",
      "* Heterogeneous data structures\n",
      "    - dictionary\n",
      "    - lists\n",
      "* No memory management\n",
      "* Print structures\n",
      "* Packages: large community of support\n",
      "* Modular: great for larger projects (modules)\n",
      "\n",
      "##Modules for Data Analysis\n",
      "\n",
      "<div class=\"col2\">\n",
      "Base:\n",
      "<ul>\n",
      "<li><a href=\"http://ipython.org\">ipython</a>: interactive shell</li>\n",
      "<li><a href=\"https://http://www.numpy.org\"> numpy </a>: array and matrix library</li>\n",
      "<li><a href=\"https://http://scipy.org\"> scipy </a>: scientific libraries</li>\n",
      "<li><a href=\"http://matplotlib.sourceforge.net/\">matplotlib </a>: visualization</li>\n",
      "<li><a href=\"http://pandas.pydata.org/\">pandas </a>: data frames </li>\n",
      "<li><a href=\"http://scikit-learn.org/stable/\">scikit-learn </a>: statisitcal modelling and machine learning </li>\n",
      "</ul>\n",
      "</div>\n",
      "\n",
      "<div class=\"col2\">\n",
      "Additional:\n",
      "<ul>\n",
      "\n",
      "<li> <a href=\"http://docs.python-requests.org/en/latest/\">Requests</a>: data from the web </li>\n",
      "<li> <a href=\"http://www.crummy.com/software/BeautifulSoup/\">Beautiful Soup</a>: parse web pages </li>\n",
      "<li> <a href=\"http://www.pytables.org/moin\">pytables </a>: fast, binary files </li>\n",
      "<li> <a href=\"http://docs.python.org/2/library/sqlite3.html\">sqlite3</a>: binding for sqlite3 </li>\n",
      "<li> <a href=\"http://spark.incubator.apache.org/\">spark</a>: in-memory MapReduce </li>\n",
      "<li> <a href=\"http://discoproject.org/\">disco</a>: MapReduce </li>\n",
      "\n",
      "</ul>\n",
      "</div>\n"
     ]
    },
    {
     "cell_type": "heading",
     "level": 1,
     "metadata": {},
     "source": [
      "Python Overview"
     ]
    },
    {
     "cell_type": "markdown",
     "metadata": {},
     "source": [
      "## Using Python as Calculator\n",
      "\n",
      "(If you're typing this into an IPython notebook, press **Shift-Enter** to evaluate a cell.)"
     ]
    },
    {
     "cell_type": "code",
     "collapsed": false,
     "input": [
      "2+2*3"
     ],
     "language": "python",
     "metadata": {},
     "outputs": [
      {
       "metadata": {},
       "output_type": "pyout",
       "prompt_number": 118,
       "text": [
        "8"
       ]
      }
     ],
     "prompt_number": 118
    },
    {
     "cell_type": "code",
     "collapsed": false,
     "input": [
      "7/3"
     ],
     "language": "python",
     "metadata": {},
     "outputs": [
      {
       "metadata": {},
       "output_type": "pyout",
       "prompt_number": 3,
       "text": [
        "2"
       ]
      }
     ],
     "prompt_number": 3
    },
    {
     "cell_type": "markdown",
     "metadata": {},
     "source": [
      "Here you have two different data types: **integers**, or *whole numbers* to the non-programming world, and **floating point numbers**, also known (incorrectly) as *decimal numbers* to the rest of the world.\n",
      "\n",
      "Python integer division, like C or Fortran, truncates the remainder and returns an integer. In Python 3, returns a floating point number. "
     ]
    },
    {
     "cell_type": "code",
     "collapsed": false,
     "input": [
      "7/3."
     ],
     "language": "python",
     "metadata": {},
     "outputs": [
      {
       "metadata": {},
       "output_type": "pyout",
       "prompt_number": 4,
       "text": [
        "2.3333333333333335"
       ]
      }
     ],
     "prompt_number": 4
    },
    {
     "cell_type": "code",
     "collapsed": false,
     "input": [
      "7/float(3)"
     ],
     "language": "python",
     "metadata": {},
     "outputs": [
      {
       "metadata": {},
       "output_type": "pyout",
       "prompt_number": 5,
       "text": [
        "2.3333333333333335"
       ]
      }
     ],
     "prompt_number": 5
    },
    {
     "cell_type": "markdown",
     "metadata": {},
     "source": [
      "\n",
      "Python has a huge number of libraries included with the distribution. To keep things simple, most of these variables and functions are not accessible in a Python session. Instead, you have to **import** the name. \n",
      "\n",
      "For example, there is a **math** module containing many useful functions. To access, say, the square root function, you can either first\n",
      "\n",
      "    from math import sqrt\n",
      "\n",
      "and then"
     ]
    },
    {
     "cell_type": "code",
     "collapsed": false,
     "input": [
      "from math import sqrt\n",
      "sqrt(100)"
     ],
     "language": "python",
     "metadata": {},
     "outputs": [
      {
       "output_type": "pyout",
       "prompt_number": 3,
       "text": [
        "10.0"
       ]
      }
     ],
     "prompt_number": 3
    },
    {
     "cell_type": "markdown",
     "metadata": {},
     "source": [
      "or you can simply **import** the full version of the **math** library itself"
     ]
    },
    {
     "cell_type": "code",
     "collapsed": false,
     "input": [
      "import math\n",
      "print(dir(math))\n",
      "print '-'*120\n",
      "print 'Sqrt of 1000 is ', math.sqrt(1000)\n"
     ],
     "language": "python",
     "metadata": {},
     "outputs": [
      {
       "output_type": "stream",
       "stream": "stdout",
       "text": [
        "['__doc__', '__name__', '__package__', 'acos', 'acosh', 'asin', 'asinh', 'atan', 'atan2', 'atanh', 'ceil', 'copysign', 'cos', 'cosh', 'degrees', 'e', 'erf', 'erfc', 'exp', 'expm1', 'fabs', 'factorial', 'floor', 'fmod', 'frexp', 'fsum', 'gamma', 'hypot', 'isinf', 'isnan', 'ldexp', 'lgamma', 'log', 'log10', 'log1p', 'modf', 'pi', 'pow', 'radians', 'sin', 'sinh', 'sqrt', 'tan', 'tanh', 'trunc']\n",
        "------------------------------------------------------------------------------------------------------------------------\n",
        "Sqrt of 1000 is  31.6227766017\n"
       ]
      }
     ],
     "prompt_number": 163
    },
    {
     "cell_type": "markdown",
     "metadata": {},
     "source": [
      "You can define variables using the equals (=) sign:"
     ]
    },
    {
     "cell_type": "code",
     "collapsed": false,
     "input": [
      "width = 20\n",
      "length = 30\n",
      "area = length*width\n",
      "area"
     ],
     "language": "python",
     "metadata": {},
     "outputs": [
      {
       "metadata": {},
       "output_type": "pyout",
       "prompt_number": 10,
       "text": [
        "600"
       ]
      }
     ],
     "prompt_number": 10
    },
    {
     "cell_type": "markdown",
     "metadata": {},
     "source": [
      "But the output is not necessary a integer number. Check below how to define the format of the outputs:"
     ]
    },
    {
     "cell_type": "code",
     "collapsed": false,
     "input": [
      "from math import pi\n",
      "print \"Pi as a decimal = %d\" % pi\n",
      "print \"Pi as a float = %f\" % pi\n",
      "print \"Pi with 4 decimal places = %.4f\" % pi\n",
      "print \"Pi with overall fixed length of 10 spaces, with 6 decimal places = %10.6f\" % pi\n",
      "print \"Pi as in exponential format = %e\" % pi"
     ],
     "language": "python",
     "metadata": {},
     "outputs": [
      {
       "output_type": "stream",
       "stream": "stdout",
       "text": [
        "Pi as a decimal = 3\n",
        "Pi as a float = 3.141593\n",
        "Pi with 4 decimal places = 3.1416\n",
        "Pi with overall fixed length of 10 spaces, with 6 decimal places =   3.141593\n",
        "Pi as in exponential format = 3.141593e+00\n"
       ]
      }
     ],
     "prompt_number": 6
    },
    {
     "cell_type": "markdown",
     "metadata": {},
     "source": [
      "##Data Structures\n",
      "\n",
      "* Strings\n",
      "* Lists\n",
      "* Tuples\n",
      "* Dictionaries\n",
      "\n",
      "###Strings\n",
      "\n",
      "Strings are lists of printable characters, and can be defined using either single quotes"
     ]
    },
    {
     "cell_type": "code",
     "collapsed": false,
     "input": [
      "'Hello, Dusseldorf'"
     ],
     "language": "python",
     "metadata": {},
     "outputs": [
      {
       "metadata": {},
       "output_type": "pyout",
       "prompt_number": 11,
       "text": [
        "'Hello, Dusseldorf'"
       ]
      }
     ],
     "prompt_number": 11
    },
    {
     "cell_type": "code",
     "collapsed": false,
     "input": [
      "greeting = \"Hello, Dusseldorf!\"\n",
      "print greeting\n",
      "\n",
      "# Properties of the string\n",
      "print 'Type of variable:',type(greeting)\n",
      "print 'Lenght of variable:',len(greeting)\n",
      "\n",
      "# Find and replace\n",
      "greeting = greeting.replace('Dusseldorf','Cologne')\n",
      "print greeting\n",
      "print 'And Cologne is in position ', greeting.find('Cologne')\n",
      "\n",
      "print'='*100\n",
      "\n",
      "# An interesting example... \n",
      "\n",
      "statement = ['Hello', 'Dusseldorf']\n",
      "print 'Yes, I am in',statement[1]\n",
      "print 'and now, I am in',greeting[7:-1]"
     ],
     "language": "python",
     "metadata": {},
     "outputs": [
      {
       "output_type": "stream",
       "stream": "stdout",
       "text": [
        "Hello, Dusseldorf!\n",
        "Type of variable: <type 'str'>\n",
        "Lenght of variable: 18\n",
        "Hello, Cologne!\n",
        "And Cologne is in position  7\n",
        "====================================================================================================\n",
        "Yes, I am in Dusseldorf\n",
        "and now, I am in Cologne\n"
       ]
      }
     ],
     "prompt_number": 172
    },
    {
     "cell_type": "markdown",
     "metadata": {},
     "source": [
      "And in case that you need help..."
     ]
    },
    {
     "cell_type": "code",
     "collapsed": false,
     "input": [
      "help(len)\n",
      "\n",
      "# or in iPhython\n",
      "len?"
     ],
     "language": "python",
     "metadata": {},
     "outputs": [
      {
       "output_type": "stream",
       "stream": "stdout",
       "text": [
        "Help on built-in function len in module __builtin__:\n",
        "\n",
        "len(...)\n",
        "    len(object) -> integer\n",
        "    \n",
        "    Return the number of items of a sequence or mapping.\n",
        "\n"
       ]
      }
     ],
     "prompt_number": 84
    },
    {
     "cell_type": "markdown",
     "metadata": {},
     "source": [
      "### Lists\n",
      "Python has a data type called **lists** defined as a container of objects. This is just a way to collect all type of objects in a list that is *mutable*."
     ]
    },
    {
     "cell_type": "code",
     "collapsed": false,
     "input": [
      "days_of_the_week = [\"Sunday\",\"Monday\",\"Tuesday\",\"Wednesday\",\"Thursday\",\"Friday\",\"Saturday\"]\n",
      "print days_of_the_week"
     ],
     "language": "python",
     "metadata": {},
     "outputs": [
      {
       "output_type": "stream",
       "stream": "stdout",
       "text": [
        "['Sunday', 'Monday', 'Tuesday', 'Wednesday', 'Thursday', 'Friday', 'Saturday']\n"
       ]
      }
     ],
     "prompt_number": 85
    },
    {
     "cell_type": "markdown",
     "metadata": {},
     "source": [
      "You can access members of the list using the index of that item:"
     ]
    },
    {
     "cell_type": "code",
     "collapsed": false,
     "input": [
      "print days_of_the_week[2]\n",
      "print days_of_the_week[-1]\n",
      "print 'Number of days of a week:',len(days_of_the_week)"
     ],
     "language": "python",
     "metadata": {},
     "outputs": [
      {
       "output_type": "stream",
       "stream": "stdout",
       "text": [
        "Tuesday\n",
        "Saturday\n",
        "Number of days of a week: 7\n"
       ]
      }
     ],
     "prompt_number": 53
    },
    {
     "cell_type": "code",
     "collapsed": false,
     "input": [
      "languages = [\"Fortran\",\"C\",\"C++\"]\n",
      "\n",
      "# Appending new elements in the list\n",
      "languages.append(\"Python\")\n",
      "print languages\n",
      "print 'Last two languages:',languages[len(languages)-2:]\n",
      "languages.append(\"Haskell\")\n",
      "print 'Last two languages:',languages[len(languages)-2:]\n",
      "\n",
      "# Removing the last element in the list of languages\n",
      "languages.remove(languages[len(languages)-1])\n",
      "print 'Last two languages:',languages[len(languages)-2:]"
     ],
     "language": "python",
     "metadata": {},
     "outputs": [
      {
       "output_type": "stream",
       "stream": "stdout",
       "text": [
        "['Fortran', 'C', 'C++', 'Python']\n",
        "Last two languages: ['C++', 'Python']\n",
        "Last two languages: ['Python', 'Haskell']\n",
        "Last two languages: ['C++', 'Python']\n"
       ]
      }
     ],
     "prompt_number": 63
    },
    {
     "cell_type": "markdown",
     "metadata": {},
     "source": [
      "The **range(start,stop,step)** command is a convenient way to make sequential lists of numbers:"
     ]
    },
    {
     "cell_type": "code",
     "collapsed": false,
     "input": [
      "range(20)"
     ],
     "language": "python",
     "metadata": {},
     "outputs": [
      {
       "metadata": {},
       "output_type": "pyout",
       "prompt_number": 64,
       "text": [
        "[0, 1, 2, 3, 4, 5, 6, 7, 8, 9, 10, 11, 12, 13, 14, 15, 16, 17, 18, 19]"
       ]
      }
     ],
     "prompt_number": 64
    },
    {
     "cell_type": "code",
     "collapsed": false,
     "input": [
      "l = range(-5,5)\n",
      "print l"
     ],
     "language": "python",
     "metadata": {},
     "outputs": [
      {
       "output_type": "stream",
       "stream": "stdout",
       "text": [
        "[-5, -4, -3, -2, -1, 0, 1, 2, 3, 4]\n"
       ]
      }
     ],
     "prompt_number": 74
    },
    {
     "cell_type": "code",
     "collapsed": false,
     "input": [
      "evens = range(0,20,2)\n",
      "print evens\n",
      "\n",
      "# Printing elements of the list\n",
      "print evens[3]\n",
      "\n",
      "# Sorting elements of the list\n",
      "print evens.sort(reverse=True)"
     ],
     "language": "python",
     "metadata": {},
     "outputs": [
      {
       "output_type": "stream",
       "stream": "stdout",
       "text": [
        "[0, 2, 4, 6, 8, 10, 12, 14, 16, 18]\n",
        "6\n",
        "None\n"
       ]
      }
     ],
     "prompt_number": 79
    },
    {
     "cell_type": "code",
     "collapsed": false,
     "input": [
      "[\"Today\",7,99.3,\"\"]"
     ],
     "language": "python",
     "metadata": {},
     "outputs": [
      {
       "metadata": {},
       "output_type": "pyout",
       "prompt_number": 35,
       "text": [
        "['Today', 7, 99.3, '']"
       ]
      }
     ],
     "prompt_number": 35
    },
    {
     "cell_type": "code",
     "collapsed": false,
     "input": [
      "help(len)"
     ],
     "language": "python",
     "metadata": {},
     "outputs": [
      {
       "output_type": "stream",
       "stream": "stdout",
       "text": [
        "Help on built-in function len in module __builtin__:\n",
        "\n",
        "len(...)\n",
        "    len(object) -> integer\n",
        "    \n",
        "    Return the number of items of a sequence or mapping.\n",
        "\n"
       ]
      }
     ],
     "prompt_number": 36
    },
    {
     "cell_type": "code",
     "collapsed": false,
     "input": [
      "len(evens)"
     ],
     "language": "python",
     "metadata": {},
     "outputs": [
      {
       "metadata": {},
       "output_type": "pyout",
       "prompt_number": 37,
       "text": [
        "10"
       ]
      }
     ],
     "prompt_number": 37
    },
    {
     "cell_type": "markdown",
     "metadata": {},
     "source": [
      "###Tuples\n",
      "A **tuple** is a sequence object like a list or a string. It's constructed by grouping a sequence of objects together with commas, either without brackets, or with parentheses. Tuples are *inmutable*, meaning that they cannot be modified once created (you can't append to them or change the elements of them):"
     ]
    },
    {
     "cell_type": "code",
     "collapsed": false,
     "input": [
      "languages_t = (\"Fortran\",\"C\",\"C++\")\n",
      "print languages_t\n",
      "print 'Size:',len(languages_t),'||','Type:',type(languages_t)\n",
      "\n",
      "# Unpacking\n",
      "x,y,z = languages_t\n",
      "print z\n",
      "\n"
     ],
     "language": "python",
     "metadata": {},
     "outputs": [
      {
       "output_type": "stream",
       "stream": "stdout",
       "text": [
        "('Fortran', 'C', 'C++')\n",
        "Size: 3 || Type: <type 'tuple'>\n",
        "C++\n"
       ]
      }
     ],
     "prompt_number": 103
    },
    {
     "cell_type": "markdown",
     "metadata": {},
     "source": [
      "Tuples are useful anytime you want to group different pieces of data together in an object, but don't want to create a full-fledged class (see below) for them. For example, let's say you want the Cartesian coordinates of some objects in your program. "
     ]
    },
    {
     "cell_type": "markdown",
     "metadata": {},
     "source": [
      "###Dictionaries\n",
      "A collection of {key:value} pairs, also called associative arrays or hash maps in other languages"
     ]
    },
    {
     "cell_type": "code",
     "collapsed": false,
     "input": [
      "ages = {\"Rick\": 46, \"Bob\": 86, \"Fred\": 21}\n",
      "print \"Rick's age is \",ages[\"Rick\"]"
     ],
     "language": "python",
     "metadata": {},
     "outputs": [
      {
       "output_type": "stream",
       "stream": "stdout",
       "text": [
        "Rick's age is  46\n"
       ]
      }
     ],
     "prompt_number": 111
    },
    {
     "cell_type": "code",
     "collapsed": false,
     "input": [
      "ages2 = dict(Rick=46,Bob=86,Fred=20)\n",
      "print \"Rick's age is \",ages2[\"Rick\"]"
     ],
     "language": "python",
     "metadata": {},
     "outputs": [
      {
       "output_type": "stream",
       "stream": "stdout",
       "text": [
        "Rick's age is  46\n"
       ]
      }
     ],
     "prompt_number": 112
    },
    {
     "cell_type": "code",
     "collapsed": false,
     "input": [
      "data = {}\n",
      "data['k1']=True\n",
      "data['k2']=2\n",
      "data['k3']=3.0\n",
      "\n",
      "print data\n",
      "print 'Size:',len(data),'||','Type:',type(data)\n",
      "\n",
      "# Add-in a new element in the list\n",
      "data['k4']=100\n",
      "print 'New data:',data['k4']\n",
      "print data\n",
      "\n",
      "# Getting data using the label or index\n",
      "x = 'k4'\n",
      "print 'Retriving from ',x, 'the data', data.get('k4',0)\n"
     ],
     "language": "python",
     "metadata": {},
     "outputs": [
      {
       "output_type": "stream",
       "stream": "stdout",
       "text": [
        "{'k3': 3.0, 'k2': 2, 'k1': True}\n",
        "Size: 3 || Type: <type 'dict'>\n",
        "New data: 100\n",
        "{'k3': 3.0, 'k2': 2, 'k1': True, 'k4': 100}\n",
        "Retriving from  k4 the data 100\n"
       ]
      }
     ],
     "prompt_number": 99
    },
    {
     "cell_type": "markdown",
     "metadata": {},
     "source": [
      "<h1>Control Flow</h1>\n",
      "\n",
      "- <code>if</code>,<code>elif</code> and <code>else</code>\n",
      "- <code>for</code> loops\n",
      "- <code>while</code> loops\n",
      "- <code>exception</code> handling\n",
      "- Iteration, Indetation and Blocks\n",
      "- Comprenhension"
     ]
    },
    {
     "cell_type": "markdown",
     "metadata": {},
     "source": [
      "##`if`, `elif`, and `else`"
     ]
    },
    {
     "cell_type": "code",
     "collapsed": false,
     "input": [
      "car = 10\n",
      "bus = 2.5\n",
      "cash = 1.5\n",
      "\n",
      "if car < cash:\n",
      "    print 'I can drive'\n",
      "    \n",
      "if bus < cash and car > cash:\n",
      "    print \"I'll take the bus\"\n",
      "    \n",
      "if bus > cash:\n",
      "    print 'Walking.'"
     ],
     "language": "python",
     "metadata": {},
     "outputs": [
      {
       "output_type": "stream",
       "stream": "stdout",
       "text": [
        "Walking\n"
       ]
      }
     ],
     "prompt_number": 125
    },
    {
     "cell_type": "code",
     "collapsed": false,
     "input": [
      "if car < cash:\n",
      "    print 'Enjoy your car ride'\n",
      "elif bus < cash:\n",
      "    print 'Another one rides the bus'\n",
      "else:\n",
      "    print 'Walking..'"
     ],
     "language": "python",
     "metadata": {},
     "outputs": [
      {
       "output_type": "stream",
       "stream": "stdout",
       "text": [
        "Walking..\n"
       ]
      }
     ],
     "prompt_number": 126
    },
    {
     "cell_type": "code",
     "collapsed": false,
     "input": [
      "action = 'car' if car < cash else 'Walking...' #one-liner\n",
      "\n",
      "print action"
     ],
     "language": "python",
     "metadata": {},
     "outputs": [
      {
       "output_type": "stream",
       "stream": "stdout",
       "text": [
        "Walking...\n"
       ]
      }
     ],
     "prompt_number": 127
    },
    {
     "cell_type": "markdown",
     "metadata": {},
     "source": [
      "<h2> The <code>for</code> loop </h2>"
     ]
    },
    {
     "cell_type": "code",
     "collapsed": false,
     "input": [
      "numbers = [1,2,3,4,5]\n",
      "\n",
      "for i in numbers:\n",
      "    print i,\n",
      "    \n",
      "print '  '\n",
      "\n",
      "for num in numbers:\n",
      "    print num,"
     ],
     "language": "python",
     "metadata": {},
     "outputs": [
      {
       "output_type": "stream",
       "stream": "stdout",
       "text": [
        "1 2 3 4 5   \n",
        "1 2 3 4 5\n"
       ]
      }
     ],
     "prompt_number": 164
    },
    {
     "cell_type": "code",
     "collapsed": false,
     "input": [
      "for i in xrange(10):\n",
      "    print i,"
     ],
     "language": "python",
     "metadata": {},
     "outputs": [
      {
       "output_type": "stream",
       "stream": "stdout",
       "text": [
        "0 1 2 3 4 5 6 7 8 9\n"
       ]
      }
     ],
     "prompt_number": 130
    },
    {
     "cell_type": "code",
     "collapsed": false,
     "input": [
      "for letter in \"Sunday\":\n",
      "    print letter"
     ],
     "language": "python",
     "metadata": {},
     "outputs": [
      {
       "output_type": "stream",
       "stream": "stdout",
       "text": [
        "S\n",
        "u\n",
        "n\n",
        "d\n",
        "a\n",
        "y\n"
       ]
      }
     ],
     "prompt_number": 132
    },
    {
     "cell_type": "code",
     "collapsed": false,
     "input": [
      "for i in xrange(10):\n",
      "    print i, i%2\n",
      "    if i % 2:\n",
      "        continue\n",
      "    print \"still here\","
     ],
     "language": "python",
     "metadata": {},
     "outputs": [
      {
       "output_type": "stream",
       "stream": "stdout",
       "text": [
        "0 0\n",
        "still here 1 1\n",
        "2 0\n",
        "still here 3 1\n",
        "4 0\n",
        "still here 5 1\n",
        "6 0\n",
        "still here 7 1\n",
        "8 0\n",
        "still here 9 1\n"
       ]
      }
     ],
     "prompt_number": 134
    },
    {
     "cell_type": "code",
     "collapsed": false,
     "input": [
      "for i in xrange(10):\n",
      "    if i == 5:\n",
      "        break\n",
      "    print i,"
     ],
     "language": "python",
     "metadata": {},
     "outputs": [
      {
       "output_type": "stream",
       "stream": "stdout",
       "text": [
        "0 1 2 3 4\n"
       ]
      }
     ],
     "prompt_number": 135
    },
    {
     "cell_type": "code",
     "collapsed": false,
     "input": [
      "index = 0\n",
      "for day in days_of_the_week:\n",
      "    print index, days_of_the_week[index], day\n",
      "    index += 1"
     ],
     "language": "python",
     "metadata": {},
     "outputs": [
      {
       "output_type": "stream",
       "stream": "stdout",
       "text": [
        "0 Sunday Sunday\n",
        "1 Monday Monday\n",
        "2 Tuesday Tuesday\n",
        "3 Wednesday Wednesday\n",
        "4 Thursday Thursday\n",
        "5 Friday Friday\n",
        "6 Saturday Saturday\n"
       ]
      }
     ],
     "prompt_number": 144
    },
    {
     "cell_type": "code",
     "collapsed": false,
     "input": [
      "for i, day in enumerate(days_of_the_week):\n",
      "    print i, days_of_the_week[i], day"
     ],
     "language": "python",
     "metadata": {},
     "outputs": [
      {
       "output_type": "stream",
       "stream": "stdout",
       "text": [
        "0 Sunday Sunday\n",
        "1 Monday Monday\n",
        "2 Tuesday Tuesday\n",
        "3 Wednesday Wednesday\n",
        "4 Thursday Thursday\n",
        "5 Friday Friday\n",
        "6 Saturday Saturday\n"
       ]
      }
     ],
     "prompt_number": 147
    },
    {
     "cell_type": "markdown",
     "metadata": {},
     "source": [
      "<h2><code> while </code>loop</h2>"
     ]
    },
    {
     "cell_type": "code",
     "collapsed": false,
     "input": [
      "count = 0\n",
      "while (count < 10):\n",
      "   print count,\n",
      "   count += 1"
     ],
     "language": "python",
     "metadata": {},
     "outputs": [
      {
       "output_type": "stream",
       "stream": "stdout",
       "text": [
        "0 1 2 3 4 5 6 7 8 9\n"
       ]
      }
     ],
     "prompt_number": 136
    },
    {
     "cell_type": "markdown",
     "metadata": {},
     "source": [
      "<h2><code>exception</code> handling</h2>"
     ]
    },
    {
     "cell_type": "code",
     "collapsed": false,
     "input": [
      "num = '123.4d'\n",
      "print float(num)"
     ],
     "language": "python",
     "metadata": {},
     "outputs": [
      {
       "ename": "ValueError",
       "evalue": "invalid literal for float(): 123.4d",
       "output_type": "pyerr",
       "traceback": [
        "\u001b[1;31m---------------------------------------------------------------------------\u001b[0m\n\u001b[1;31mValueError\u001b[0m                                Traceback (most recent call last)",
        "\u001b[1;32m<ipython-input-137-320d5b550040>\u001b[0m in \u001b[0;36m<module>\u001b[1;34m()\u001b[0m\n\u001b[0;32m      1\u001b[0m \u001b[0mnum\u001b[0m \u001b[1;33m=\u001b[0m \u001b[1;34m'123.4d'\u001b[0m\u001b[1;33m\u001b[0m\u001b[0m\n\u001b[1;32m----> 2\u001b[1;33m \u001b[1;32mprint\u001b[0m \u001b[0mfloat\u001b[0m\u001b[1;33m(\u001b[0m\u001b[0mnum\u001b[0m\u001b[1;33m)\u001b[0m\u001b[1;33m\u001b[0m\u001b[0m\n\u001b[0m",
        "\u001b[1;31mValueError\u001b[0m: invalid literal for float(): 123.4d"
       ]
      }
     ],
     "prompt_number": 137
    },
    {
     "cell_type": "code",
     "collapsed": false,
     "input": [
      "try:\n",
      "    print float(num)\n",
      "except (ValueError, TypeError),e:\n",
      "    print e\n",
      "    print 'DO SOMETHING ELSE HERE'"
     ],
     "language": "python",
     "metadata": {},
     "outputs": [
      {
       "output_type": "stream",
       "stream": "stdout",
       "text": [
        "invalid literal for float(): 123.4d\n",
        "DO SOMETHING ELSE HERE\n"
       ]
      }
     ],
     "prompt_number": 138
    },
    {
     "cell_type": "code",
     "collapsed": false,
     "input": [
      "values = [1,2,3]\n",
      "try:\n",
      "    print float(values)\n",
      "except ValueError:\n",
      "    print \"nope\"\n",
      "except TypeError:\n",
      "    print float(values[0])"
     ],
     "language": "python",
     "metadata": {},
     "outputs": [
      {
       "output_type": "stream",
       "stream": "stdout",
       "text": [
        "1.0\n"
       ]
      }
     ],
     "prompt_number": 139
    },
    {
     "cell_type": "code",
     "collapsed": false,
     "input": [
      "try:\n",
      "    print float(\"454c\")\n",
      "    print float([1,2,3])\n",
      "except:\n",
      "    print \"error\""
     ],
     "language": "python",
     "metadata": {},
     "outputs": [
      {
       "output_type": "stream",
       "stream": "stdout",
       "text": [
        "error\n"
       ]
      }
     ],
     "prompt_number": 140
    },
    {
     "cell_type": "markdown",
     "metadata": {},
     "source": [
      "## Iteration, Indentation, and Blocks\n",
      "One of the most useful things you can do with lists is to *iterate* through them, i.e. to go through each element one at a time. To do this in Python, we use the **for** statement:"
     ]
    },
    {
     "cell_type": "code",
     "collapsed": false,
     "input": [
      "for day in days_of_the_week:\n",
      "    print day"
     ],
     "language": "python",
     "metadata": {},
     "outputs": [
      {
       "output_type": "stream",
       "stream": "stdout",
       "text": [
        "Sunday\n",
        "Monday\n",
        "Tuesday\n",
        "Wednesday\n",
        "Thursday\n",
        "Friday\n",
        "Saturday\n"
       ]
      }
     ],
     "prompt_number": 105
    },
    {
     "cell_type": "markdown",
     "metadata": {},
     "source": [
      "This code snippet goes through each element of the list called **days_of_the_week** and assigns it to the variable **day**. It then executes everything in the indented block (in this case only one line of code, the print statement) using those variable assignments. When the program has gone through every element of the list, it exists the block.\n",
      "\n",
      "Every programming language defines blocks or scopes of code in some way. In Fortran, one uses END statements (ENDDO, ENDIF, etc.) to define code blocks. In C, C++, and Perl, one uses curly braces {} to define the scope or blocks.\n",
      "\n",
      "Python uses a colon (\":\"), followed by **indentation level** to define code blocks. Everything at a higher level of indentation is taken to be in the same block."
     ]
    },
    {
     "cell_type": "code",
     "collapsed": false,
     "input": [
      "for day in days_of_the_week:\n",
      "    statement = \"Today is \" + day\n",
      "    print statement"
     ],
     "language": "python",
     "metadata": {},
     "outputs": [
      {
       "output_type": "stream",
       "stream": "stdout",
       "text": [
        "Today is Sunday\n",
        "Today is Monday\n",
        "Today is Tuesday\n",
        "Today is Wednesday\n",
        "Today is Thursday\n",
        "Today is Friday\n",
        "Today is Saturday\n"
       ]
      }
     ],
     "prompt_number": 106
    },
    {
     "cell_type": "code",
     "collapsed": false,
     "input": [
      "for i in range(20):\n",
      "    print \"The square of \",i,\" is \",i*i"
     ],
     "language": "python",
     "metadata": {},
     "outputs": [
      {
       "output_type": "stream",
       "stream": "stdout",
       "text": [
        "The square of  0  is  0\n",
        "The square of  1  is  1\n",
        "The square of  2  is  4\n",
        "The square of  3  is  9\n",
        "The square of  4  is  16\n",
        "The square of  5  is  25\n",
        "The square of  6  is  36\n",
        "The square of  7  is  49\n",
        "The square of  8  is  64\n",
        "The square of  9  is  81\n",
        "The square of  10  is  100\n",
        "The square of  11  is  121\n",
        "The square of  12  is  144\n",
        "The square of  13  is  169\n",
        "The square of  14  is  196\n",
        "The square of  15  is  225\n",
        "The square of  16  is  256\n",
        "The square of  17  is  289\n",
        "The square of  18  is  324\n",
        "The square of  19  is  361\n"
       ]
      }
     ],
     "prompt_number": 107
    },
    {
     "cell_type": "markdown",
     "metadata": {},
     "source": [
      "<h2>Comprenhension</h2>"
     ]
    },
    {
     "cell_type": "code",
     "collapsed": false,
     "input": [
      "days_of_the_week = [\"Sunday\",\"Monday\",\"Tuesday\",\"Wednesday\",\"Thursday\",\"Friday\",\"Saturday\"]\n",
      "\n",
      "days_of_the_week.append(\"My_Day\")\n",
      "print days_of_the_week\n",
      "\n",
      "days_of_the_week.remove(\"My_Day\")\n",
      "print days_of_the_week"
     ],
     "language": "python",
     "metadata": {},
     "outputs": [
      {
       "output_type": "stream",
       "stream": "stdout",
       "text": [
        "['Sunday', 'Monday', 'Tuesday', 'Wednesday', 'Thursday', 'Friday', 'Saturday', 'My_Day']\n",
        "['Sunday', 'Monday', 'Tuesday', 'Wednesday', 'Thursday', 'Friday', 'Saturday']\n"
       ]
      }
     ],
     "prompt_number": 155
    },
    {
     "cell_type": "code",
     "collapsed": false,
     "input": [
      "S_days = []\n",
      "for day in days_of_the_week:\n",
      "    if day.startswith('S'):\n",
      "        S_days.append(day.lower())\n",
      "print S_days"
     ],
     "language": "python",
     "metadata": {},
     "outputs": [
      {
       "output_type": "stream",
       "stream": "stdout",
       "text": [
        "['sunday', 'saturday']\n"
       ]
      }
     ],
     "prompt_number": 158
    },
    {
     "cell_type": "markdown",
     "metadata": {},
     "source": [
      "## Code Example 01: The Fibonacci Sequence\n",
      "The [Fibonacci sequence](http://en.wikipedia.org/wiki/Fibonacci_number) is a sequence in math that starts with 0 and 1, and then each successive entry is the sum of the previous two. Thus, the sequence goes 0,1,1,2,3,5,8,13,21,34,55,89,...\n",
      "\n",
      "A very common exercise in programming books is to compute the Fibonacci sequence up to some number **n**. Please, notice the comments below."
     ]
    },
    {
     "cell_type": "code",
     "collapsed": false,
     "input": [
      "n = 10\n",
      "sequence = [0,1]\n",
      "for i in range(2,n): # This is going to be a problem if we ever set n <= 2!\n",
      "    sequence.append(sequence[i-1]+sequence[i-2])\n",
      "print sequence"
     ],
     "language": "python",
     "metadata": {},
     "outputs": [
      {
       "output_type": "stream",
       "stream": "stdout",
       "text": [
        "[0, 1, 1, 2, 3, 5, 8, 13, 21, 34]\n"
       ]
      }
     ],
     "prompt_number": 110
    },
    {
     "cell_type": "markdown",
     "metadata": {},
     "source": [
      "**Comments to the code above**\n",
      "\n",
      "* *First*, we define the variable **n**, and set it to the integer 20. **n** is the length of the sequence we're going to form, and should probably have a better variable name. \n",
      "* *Second*, we create a variable called **sequence**, and initialize it to the list with the integers 0 and 1 in it, the first two elements of the Fibonacci sequence. We have to create these elements \"by hand\", since the iterative part of the sequence requires two previous elements.\n",
      "* *Third*, we then have a for loop over the list of integers from 2 (the next element of the list) to **n** (the length of the sequence). Notice that after the colon, we see a hash tag \"#\", and then a **comment** that if we had set **n** to some number less than 2 we would have a problem. Comments in Python start with #, and are good ways to make notes to yourself or to a user of your code explaining why you did what you did. Better than the comment here would be to test to make sure the value of **n** is valid, and to complain if it isn't; we'll try this later.\n",
      "* *Fourth*, in the body of the loop, we append to the list an integer equal to the sum of the two previous elements of the list.\n",
      "* *And finally*, exiting the loop (ending the indentation) we then print out the whole list. "
     ]
    },
    {
     "cell_type": "markdown",
     "metadata": {},
     "source": [
      "# Functions #\n",
      "\n",
      "A function in Python is defined using the keyword `def`, followed by a function name, a signature within parenthises `()`, and a colon `:`. The following code, with one additional level of indentation, is the function body.\n",
      "\n",
      "We might want to use the Fibonacci snippet with different sequence lengths. We could cut an paste the code into another cell, changing the value of **n**, but it's easier and more useful to make a function out of the code. We do this with the **def** statement in Python:"
     ]
    },
    {
     "cell_type": "code",
     "collapsed": false,
     "input": [
      "def fibonacci(sequence_length):\n",
      "    \"Return the Fibonacci sequence of length *sequence_length*\"\n",
      "    sequence = [0,1]\n",
      "    if sequence_length < 1:\n",
      "        print \"Fibonacci sequence only defined for length 1 or greater\"\n",
      "        return\n",
      "    if 0 < sequence_length < 3:\n",
      "        return sequence[:sequence_length]\n",
      "    for i in range(2,sequence_length): \n",
      "        sequence.append(sequence[i-1]+sequence[i-2])\n",
      "    return sequence"
     ],
     "language": "python",
     "metadata": {},
     "outputs": [],
     "prompt_number": 2
    },
    {
     "cell_type": "code",
     "collapsed": false,
     "input": [
      "fibonacci(12)"
     ],
     "language": "python",
     "metadata": {},
     "outputs": [
      {
       "metadata": {},
       "output_type": "pyout",
       "prompt_number": 149,
       "text": [
        "[0, 1, 1, 2, 3, 5, 8, 13, 21, 34, 55, 89]"
       ]
      }
     ],
     "prompt_number": 149
    },
    {
     "cell_type": "code",
     "collapsed": false,
     "input": [
      "help(fibonacci)"
     ],
     "language": "python",
     "metadata": {},
     "outputs": [
      {
       "output_type": "stream",
       "stream": "stdout",
       "text": [
        "Help on function fibonacci in module __main__:\n",
        "\n",
        "fibonacci(sequence_length)\n",
        "    Return the Fibonacci sequence of length *sequence_length*\n",
        "\n"
       ]
      }
     ],
     "prompt_number": 150
    },
    {
     "cell_type": "markdown",
     "metadata": {},
     "source": [
      "Functions can also call themselves, something that is often called **recursion**. Here you have an example of recursion by computing the factorial function. The factorial is defined for a positive integer **n** as\n",
      "    \n",
      "$$ n! = n(n-1)(n-2)\\cdots 1 $$\n",
      "\n",
      "First, note that we don't need to write a function at all, since this is a function built into the standard math library. However, if we did want to write a function ourselves, we could do recursively by:"
     ]
    },
    {
     "cell_type": "code",
     "collapsed": false,
     "input": [
      "def fact(n):\n",
      "    if n <= 0:\n",
      "        return 1\n",
      "    return n*fact(n-1)"
     ],
     "language": "python",
     "metadata": {},
     "outputs": [],
     "prompt_number": 5
    },
    {
     "cell_type": "code",
     "collapsed": false,
     "input": [
      "fact(10)"
     ],
     "language": "python",
     "metadata": {},
     "outputs": [
      {
       "metadata": {},
       "output_type": "pyout",
       "prompt_number": 175,
       "text": [
        "3628800"
       ]
      }
     ],
     "prompt_number": 175
    },
    {
     "cell_type": "markdown",
     "metadata": {},
     "source": [
      "We can return multiple values from a function using tuples (see above):"
     ]
    },
    {
     "cell_type": "code",
     "collapsed": false,
     "input": [
      "def powers(x):\n",
      "    \"\"\"\n",
      "    Return a few powers of x.\n",
      "    \"\"\"\n",
      "    return x ** 2, x ** 3, x ** 4"
     ],
     "language": "python",
     "metadata": {},
     "outputs": [],
     "prompt_number": 164
    },
    {
     "cell_type": "code",
     "collapsed": false,
     "input": [
      "powers(3)"
     ],
     "language": "python",
     "metadata": {},
     "outputs": [
      {
       "metadata": {},
       "output_type": "pyout",
       "prompt_number": 165,
       "text": [
        "(9, 27, 81)"
       ]
      }
     ],
     "prompt_number": 165
    },
    {
     "cell_type": "code",
     "collapsed": false,
     "input": [
      "x2, x3, x4 = powers(3)\n",
      "\n",
      "print(x3)"
     ],
     "language": "python",
     "metadata": {},
     "outputs": [
      {
       "output_type": "stream",
       "stream": "stdout",
       "text": [
        "27\n"
       ]
      }
     ],
     "prompt_number": 166
    },
    {
     "cell_type": "code",
     "collapsed": false,
     "input": [
      "x2, x3, x4 = powers(3)\n",
      "\n",
      "print(x3)"
     ],
     "language": "python",
     "metadata": {},
     "outputs": [
      {
       "output_type": "stream",
       "stream": "stdout",
       "text": [
        "27\n"
       ]
      }
     ],
     "prompt_number": 167
    },
    {
     "cell_type": "markdown",
     "metadata": {},
     "source": [
      "In Python we can also create unnamed functions, using the `lambda` keyword:"
     ]
    },
    {
     "cell_type": "code",
     "collapsed": false,
     "input": [
      "f1 = lambda x: x**2\n",
      "    \n",
      "# is equivalent to \n",
      "\n",
      "def f2(x):\n",
      "    return x**2"
     ],
     "language": "python",
     "metadata": {},
     "outputs": [],
     "prompt_number": 168
    },
    {
     "cell_type": "code",
     "collapsed": false,
     "input": [
      "f1(2), f2(2)"
     ],
     "language": "python",
     "metadata": {},
     "outputs": [
      {
       "metadata": {},
       "output_type": "pyout",
       "prompt_number": 169,
       "text": [
        "(4, 4)"
       ]
      }
     ],
     "prompt_number": 169
    },
    {
     "cell_type": "code",
     "collapsed": false,
     "input": [
      "# map is a built-in python function that allows us to treat function as objects...\n",
      "\n",
      "map(lambda x: x**2, range(-3,4))"
     ],
     "language": "python",
     "metadata": {},
     "outputs": [
      {
       "metadata": {},
       "output_type": "pyout",
       "prompt_number": 170,
       "text": [
        "[9, 4, 1, 0, 1, 4, 9]"
       ]
      }
     ],
     "prompt_number": 170
    },
    {
     "cell_type": "markdown",
     "metadata": {},
     "source": [
      "# Reading and Writing Data"
     ]
    },
    {
     "cell_type": "code",
     "collapsed": false,
     "input": [],
     "language": "python",
     "metadata": {},
     "outputs": []
    },
    {
     "cell_type": "markdown",
     "metadata": {},
     "source": [
      "# Plotting with Matplotlib\n",
      "First rule in statisitcal modelling, plot your data if you can. Python has a great plotting library called [Matplotlib](http://matplotlib.sf.net). The IPython notebook interface we are using for these notes has that functionality built in.\n",
      "\n",
      "Matplotlib is an excellent 2D and 3D graphics library for generating scientific figures. Some of the many advantages of this library includes:\n",
      "\n",
      "* Easy to get started\n",
      "* Support for $\\LaTeX$ formatted labels and texts\n",
      "* Great control of every element in a figure, including figure size and DPI. \n",
      "* High-quality output in many formats, including PNG, PDF, SVG, EPS.\n",
      "* GUI for interactively exploring figures *and* support for headless generation of figure files (useful for batch jobs).\n",
      "\n",
      "\n",
      "As an example, we have looked at two different functions, the Fibonacci function, and the factorial function, both of which grow faster than polynomially. Which one grows the fastest? Let's plot them."
     ]
    },
    {
     "cell_type": "code",
     "collapsed": false,
     "input": [
      "fibs = fibonacci(10)\n",
      "facts = []\n",
      "for i in range(10):\n",
      "    facts.append(fact(i))\n",
      "    \n",
      "# figsize(8,6)\n",
      "plt.plot(facts,label=\"factorial\")\n",
      "plt.plot(fibs,label=\"Fibonacci\")    \n",
      "plt.xlabel(\"n\")\n",
      "plt.legend()"
     ],
     "language": "python",
     "metadata": {},
     "outputs": [
      {
       "metadata": {},
       "output_type": "pyout",
       "prompt_number": 84,
       "text": [
        "<matplotlib.legend.Legend at 0x6ff9fb0>"
       ]
      },
      {
       "metadata": {},
       "output_type": "display_data",
       "png": "[encoded data removed]",
       "text": [
        "<matplotlib.figure.Figure at 0x70fc250>"
       ]
      }
     ],
     "prompt_number": 84
    },
    {
     "cell_type": "code",
     "collapsed": false,
     "input": [
      "# let us plot it on a semilog plot and we can see both more clearly\n",
      "\n",
      "plt.semilogy(facts,label=\"factorial\")\n",
      "plt.semilogy(fibs,label=\"Fibonacci\")\n",
      "plt.xlabel(\"n\")\n",
      "plt.legend()"
     ],
     "language": "python",
     "metadata": {},
     "outputs": [
      {
       "metadata": {},
       "output_type": "pyout",
       "prompt_number": 82,
       "text": [
        "<matplotlib.legend.Legend at 0x720c390>"
       ]
      },
      {
       "metadata": {},
       "output_type": "display_data",
       "png": "[encoded data removed]",
       "text": [
        "<matplotlib.figure.Figure at 0x70ef0d0>"
       ]
      }
     ],
     "prompt_number": 82
    },
    {
     "cell_type": "code",
     "collapsed": false,
     "input": [
      "print pi"
     ],
     "language": "python",
     "metadata": {},
     "outputs": [
      {
       "ename": "NameError",
       "evalue": "name 'pi' is not defined",
       "output_type": "pyerr",
       "traceback": [
        "\u001b[1;31m---------------------------------------------------------------------------\u001b[0m\n\u001b[1;31mNameError\u001b[0m                                 Traceback (most recent call last)",
        "\u001b[1;32m<ipython-input-96-178c179120f5>\u001b[0m in \u001b[0;36m<module>\u001b[1;34m()\u001b[0m\n\u001b[1;32m----> 1\u001b[1;33m \u001b[1;32mprint\u001b[0m \u001b[0mpi\u001b[0m\u001b[1;33m\u001b[0m\u001b[0m\n\u001b[0m",
        "\u001b[1;31mNameError\u001b[0m: name 'pi' is not defined"
       ]
      }
     ],
     "prompt_number": 96
    },
    {
     "cell_type": "code",
     "collapsed": false,
     "input": [
      "\n",
      "x = np.linspace(0, 2*pi,100)\n",
      "y = np.sin(x)\n",
      "\n",
      "plt.plot (x,y)"
     ],
     "language": "python",
     "metadata": {},
     "outputs": [
      {
       "metadata": {},
       "output_type": "pyout",
       "prompt_number": 112,
       "text": [
        "[<matplotlib.lines.Line2D at 0x7851e90>]"
       ]
      },
      {
       "metadata": {},
       "output_type": "display_data",
       "png": "[encoded data removed]",
       "text": [
        "<matplotlib.figure.Figure at 0x5b10ff0>"
       ]
      }
     ],
     "prompt_number": 112
    },
    {
     "cell_type": "code",
     "collapsed": false,
     "input": [
      "fig, ax = plt.subplots()\n",
      "\n",
      "ax.plot(x, x**2, label=r\"$y = \\alpha^2$\")\n",
      "ax.plot(x, x**3, label=r\"$y = \\alpha^3$\")\n",
      "ax.set_xlabel(r'$\\alpha$', fontsize=18)\n",
      "ax.set_ylabel(r'$y$', fontsize=18)\n",
      "ax.set_title('title')\n",
      "ax.legend(loc=2); # upper left corner"
     ],
     "language": "python",
     "metadata": {},
     "outputs": [
      {
       "metadata": {},
       "output_type": "pyout",
       "prompt_number": 174,
       "text": [
        "<matplotlib.legend.Legend at 0xd2e5290>"
       ]
      },
      {
       "metadata": {},
       "output_type": "display_data",
       "png": "[encoded data removed]",
       "text": [
        "<matplotlib.figure.Figure at 0xcf81670>"
       ]
      }
     ],
     "prompt_number": 174
    },
    {
     "cell_type": "code",
     "collapsed": false,
     "input": [
      "fig, axes = plt.subplots(1, 2, figsize=(10,3))\n",
      "\n",
      "# default grid appearance\n",
      "axes[0].plot(x, x**2, x, x**3, lw=2)\n",
      "axes[0].grid(True)\n",
      "\n",
      "# custom grid appearance\n",
      "axes[1].plot(x, x**2, x, x**3, lw=2)\n",
      "axes[1].grid(color='b', alpha=0.5, linestyle='dashed', linewidth=0.5)"
     ],
     "language": "python",
     "metadata": {},
     "outputs": [
      {
       "metadata": {},
       "output_type": "display_data",
       "png": "[encoded data removed]",
       "text": [
        "<matplotlib.figure.Figure at 0xd09af90>"
       ]
      }
     ],
     "prompt_number": 177
    },
    {
     "cell_type": "code",
     "collapsed": false,
     "input": [
      "n = np.array([0,1,2,3,4,5])\n",
      "fig, axes = plt.subplots(1, 4, figsize=(12,3))\n",
      "axes[0].scatter(x, x + 0.25*np.random.randn(len(x)))\n",
      "axes[1].step(n, n**2, lw=2)\n",
      "axes[2].bar(n, n**2, align=\"center\", width=0.5, alpha=0.5)\n",
      "axes[3].fill_between(x, x**2, x**3, color=\"green\", alpha=0.5);"
     ],
     "language": "python",
     "metadata": {},
     "outputs": [
      {
       "metadata": {},
       "output_type": "display_data",
       "png": "[encoded data removed]",
       "text": [
        "<matplotlib.figure.Figure at 0xd4b1030>"
       ]
      }
     ],
     "prompt_number": 184
    },
    {
     "cell_type": "code",
     "collapsed": false,
     "input": [
      "import math\n",
      "alpha = 0.7\n",
      "phi_ext = 2 * pi * 0.5\n",
      "\n",
      "def flux_qubit_potential(phi_m, phi_p):\n",
      "    return 2 + alpha - 2 * cos(phi_p)*cos(phi_m) - alpha * cos(phi_ext - 2*phi_p)\n"
     ],
     "language": "python",
     "metadata": {},
     "outputs": [],
     "prompt_number": 194
    },
    {
     "cell_type": "code",
     "collapsed": false,
     "input": [
      "phi_m = np.linspace(0, 2*pi, 100)\n",
      "phi_p = np.linspace(0, 2*pi, 100)\n",
      "X,Y = np.meshgrid(phi_p, phi_m)\n",
      "Z = flux_qubit_potential(X, Y).T\n",
      "\n",
      "\n",
      "fig, ax = plt.subplots()\n",
      "\n",
      "p = ax.pcolor(X/(2*pi), Y/(2*pi), Z, cmap=cm.RdBu, vmin=abs(Z).min(), vmax=abs(Z).max())\n",
      "cb = fig.colorbar(p)"
     ],
     "language": "python",
     "metadata": {},
     "outputs": [
      {
       "ename": "NameError",
       "evalue": "global name 'cos' is not defined",
       "output_type": "pyerr",
       "traceback": [
        "\u001b[1;31m---------------------------------------------------------------------------\u001b[0m\n\u001b[1;31mNameError\u001b[0m                                 Traceback (most recent call last)",
        "\u001b[1;32m<ipython-input-197-b502997a407f>\u001b[0m in \u001b[0;36m<module>\u001b[1;34m()\u001b[0m\n\u001b[0;32m      2\u001b[0m \u001b[0mphi_p\u001b[0m \u001b[1;33m=\u001b[0m \u001b[0mnp\u001b[0m\u001b[1;33m.\u001b[0m\u001b[0mlinspace\u001b[0m\u001b[1;33m(\u001b[0m\u001b[1;36m0\u001b[0m\u001b[1;33m,\u001b[0m \u001b[1;36m2\u001b[0m\u001b[1;33m*\u001b[0m\u001b[0mpi\u001b[0m\u001b[1;33m,\u001b[0m \u001b[1;36m100\u001b[0m\u001b[1;33m)\u001b[0m\u001b[1;33m\u001b[0m\u001b[0m\n\u001b[0;32m      3\u001b[0m \u001b[0mX\u001b[0m\u001b[1;33m,\u001b[0m\u001b[0mY\u001b[0m \u001b[1;33m=\u001b[0m \u001b[0mnp\u001b[0m\u001b[1;33m.\u001b[0m\u001b[0mmeshgrid\u001b[0m\u001b[1;33m(\u001b[0m\u001b[0mphi_p\u001b[0m\u001b[1;33m,\u001b[0m \u001b[0mphi_m\u001b[0m\u001b[1;33m)\u001b[0m\u001b[1;33m\u001b[0m\u001b[0m\n\u001b[1;32m----> 4\u001b[1;33m \u001b[0mZ\u001b[0m \u001b[1;33m=\u001b[0m \u001b[0mflux_qubit_potential\u001b[0m\u001b[1;33m(\u001b[0m\u001b[0mX\u001b[0m\u001b[1;33m,\u001b[0m \u001b[0mY\u001b[0m\u001b[1;33m)\u001b[0m\u001b[1;33m.\u001b[0m\u001b[0mT\u001b[0m\u001b[1;33m\u001b[0m\u001b[0m\n\u001b[0m\u001b[0;32m      5\u001b[0m \u001b[1;33m\u001b[0m\u001b[0m\n\u001b[0;32m      6\u001b[0m \u001b[1;33m\u001b[0m\u001b[0m\n",
        "\u001b[1;32m<ipython-input-194-404b71f51e8e>\u001b[0m in \u001b[0;36mflux_qubit_potential\u001b[1;34m(phi_m, phi_p)\u001b[0m\n\u001b[0;32m      4\u001b[0m \u001b[1;33m\u001b[0m\u001b[0m\n\u001b[0;32m      5\u001b[0m \u001b[1;32mdef\u001b[0m \u001b[0mflux_qubit_potential\u001b[0m\u001b[1;33m(\u001b[0m\u001b[0mphi_m\u001b[0m\u001b[1;33m,\u001b[0m \u001b[0mphi_p\u001b[0m\u001b[1;33m)\u001b[0m\u001b[1;33m:\u001b[0m\u001b[1;33m\u001b[0m\u001b[0m\n\u001b[1;32m----> 6\u001b[1;33m     \u001b[1;32mreturn\u001b[0m \u001b[1;36m2\u001b[0m \u001b[1;33m+\u001b[0m \u001b[0malpha\u001b[0m \u001b[1;33m-\u001b[0m \u001b[1;36m2\u001b[0m \u001b[1;33m*\u001b[0m \u001b[0mcos\u001b[0m\u001b[1;33m(\u001b[0m\u001b[0mphi_p\u001b[0m\u001b[1;33m)\u001b[0m\u001b[1;33m*\u001b[0m\u001b[0mcos\u001b[0m\u001b[1;33m(\u001b[0m\u001b[0mphi_m\u001b[0m\u001b[1;33m)\u001b[0m \u001b[1;33m-\u001b[0m \u001b[0malpha\u001b[0m \u001b[1;33m*\u001b[0m \u001b[0mcos\u001b[0m\u001b[1;33m(\u001b[0m\u001b[0mphi_ext\u001b[0m \u001b[1;33m-\u001b[0m \u001b[1;36m2\u001b[0m\u001b[1;33m*\u001b[0m\u001b[0mphi_p\u001b[0m\u001b[1;33m)\u001b[0m\u001b[1;33m\u001b[0m\u001b[0m\n\u001b[0m",
        "\u001b[1;31mNameError\u001b[0m: global name 'cos' is not defined"
       ]
      }
     ],
     "prompt_number": 197
    },
    {
     "cell_type": "markdown",
     "metadata": {},
     "source": [
      "#Numpy and Scipy: Computing with vectors and arrays\n",
      "\n",
      "[Numpy](http://numpy.org) contains core routines for doing fast vector, matrix, and linear algebra-type operations in Python. [Scipy](http://scipy) contains additional routines for optimization, special functions, and so on. Both contain modules written in C and Fortran so that they're as fast as possible. Together, they give Python roughly the same capability that the [Matlab](http://www.mathworks.com/products/matlab/) program offers, but with an increase of speed that use to be higher than x300. (In fact, if you're an experienced Matlab user, there a [guide to Numpy for Matlab users](http://www.scipy.org/NumPy_for_Matlab_Users) just for you.)\n",
      "\n",
      "### Working with vectors and matrices\n",
      "Fundamental to both Numpy and Scipy is the ability to work with vectors and matrices. You can create vectors from lists using the **array** command. You can pass in a second argument to **array** that gives the numeric type. There are a number of types [listed here](http://docs.scipy.org/doc/numpy/user/basics.types.html) that your matrix can be. Some of these are aliased to single character codes. The most common ones are 'd' (double precision floating point number), 'D' (double precision complex number), and 'i' (int32). "
     ]
    },
    {
     "cell_type": "code",
     "collapsed": false,
     "input": [
      "print np.array([1,2,3,4,5,6])\n",
      "print np.array([1,2,3,4,5,6],'d')\n",
      "print np.array([1,2,3,4,5,6],'D')\n",
      "print np.array([1,2,3,4,5,6],'i')\n",
      "print np.array([[0,1],[1,0]],'d')"
     ],
     "language": "python",
     "metadata": {},
     "outputs": [
      {
       "output_type": "stream",
       "stream": "stdout",
       "text": [
        "[1 2 3 4 5 6]\n",
        "[ 1.  2.  3.  4.  5.  6.]\n",
        "[ 1.+0.j  2.+0.j  3.+0.j  4.+0.j  5.+0.j  6.+0.j]\n",
        "[1 2 3 4 5 6]\n",
        "[[ 0.  1.]\n",
        " [ 1.  0.]]\n"
       ]
      }
     ],
     "prompt_number": 25
    },
    {
     "cell_type": "code",
     "collapsed": false,
     "input": [
      "print np.zeros((3,3),'d')\n",
      "print np.zeros(3,'d')\n",
      "print np.zeros((1,3),'d')\n",
      "print np.zeros((3,1),'d')\n",
      "print np.identity(3,'d')\n",
      "print np.identity(3,'d')*333\n",
      "print np.ones((3,3),'d')\n",
      "print np.ones((3,3),'d')*333"
     ],
     "language": "python",
     "metadata": {},
     "outputs": [
      {
       "output_type": "stream",
       "stream": "stdout",
       "text": [
        "[[ 0.  0.  0.]\n",
        " [ 0.  0.  0.]\n",
        " [ 0.  0.  0.]]\n",
        "[ 0.  0.  0.]\n",
        "[[ 0.  0.  0.]]\n",
        "[[ 0.]\n",
        " [ 0.]\n",
        " [ 0.]]\n",
        "[[ 1.  0.  0.]\n",
        " [ 0.  1.  0.]\n",
        " [ 0.  0.  1.]]\n",
        "[[ 333.    0.    0.]\n",
        " [   0.  333.    0.]\n",
        " [   0.    0.  333.]]\n",
        "[[ 1.  1.  1.]\n",
        " [ 1.  1.  1.]\n",
        " [ 1.  1.  1.]]\n",
        "[[ 333.  333.  333.]\n",
        " [ 333.  333.  333.]\n",
        " [ 333.  333.  333.]]\n"
       ]
      }
     ],
     "prompt_number": 31
    },
    {
     "cell_type": "code",
     "collapsed": false,
     "input": [
      "np.identity(2,'d') + np.array([[1,1],[1,2]])"
     ],
     "language": "python",
     "metadata": {},
     "outputs": [
      {
       "metadata": {},
       "output_type": "pyout",
       "prompt_number": 33,
       "text": [
        "array([[ 2.,  1.],\n",
        "       [ 1.,  3.]])"
       ]
      }
     ],
     "prompt_number": 33
    },
    {
     "cell_type": "code",
     "collapsed": false,
     "input": [
      "# elementwise multiplication\n",
      "print np.identity(2)*np.ones((2,2))\n",
      "\n",
      "print '='*20\n",
      "\n",
      "# matrix multiplication\n",
      "print np.dot(np.identity(2),np.ones((2,2)))"
     ],
     "language": "python",
     "metadata": {},
     "outputs": [
      {
       "output_type": "stream",
       "stream": "stdout",
       "text": [
        "[[ 1.  0.]\n",
        " [ 0.  1.]]\n",
        "====================\n",
        "[[ 1.  1.]\n",
        " [ 1.  1.]]\n"
       ]
      }
     ],
     "prompt_number": 38
    },
    {
     "cell_type": "code",
     "collapsed": false,
     "input": [
      "# Transpose matrices\n",
      "m = np.array([[1,2],[3,4]])\n",
      "m.T"
     ],
     "language": "python",
     "metadata": {},
     "outputs": [
      {
       "metadata": {},
       "output_type": "pyout",
       "prompt_number": 40,
       "text": [
        "array([[1, 3],\n",
        "       [2, 4]])"
       ]
      }
     ],
     "prompt_number": 40
    },
    {
     "cell_type": "code",
     "collapsed": false,
     "input": [
      "# Diagonal of square matrix\n",
      "np.diag([1,2,3,4,5])"
     ],
     "language": "python",
     "metadata": {},
     "outputs": [
      {
       "metadata": {},
       "output_type": "pyout",
       "prompt_number": 42,
       "text": [
        "array([[1, 0, 0, 0, 0],\n",
        "       [0, 2, 0, 0, 0],\n",
        "       [0, 0, 3, 0, 0],\n",
        "       [0, 0, 0, 4, 0],\n",
        "       [0, 0, 0, 0, 5]])"
       ]
      }
     ],
     "prompt_number": 42
    },
    {
     "cell_type": "code",
     "collapsed": false,
     "input": [
      "# Solve systems of linear equations using the solve command\n",
      "\n",
      "A = np.array([[1,1,1],[0,2,5],[2,5,-1]])\n",
      "b = np.array([6,-4,27])\n",
      "print np.linalg.solve(A,b)\n",
      "print np.linalg.lstsq(A,b)"
     ],
     "language": "python",
     "metadata": {},
     "outputs": [
      {
       "output_type": "stream",
       "stream": "stdout",
       "text": [
        "[ 5.  3. -2.]\n",
        "(array([ 5.,  3., -2.]), array([], dtype=float64), 3, array([ 6.08222134,  4.95180933,  0.69725745]))\n"
       ]
      }
     ],
     "prompt_number": 65
    },
    {
     "cell_type": "code",
     "collapsed": false,
     "input": [
      "A = np.array([[13,-4],[-4,7]],'d')\n",
      "np.linalg.eigvals(A)"
     ],
     "language": "python",
     "metadata": {},
     "outputs": [
      {
       "metadata": {},
       "output_type": "pyout",
       "prompt_number": 68,
       "text": [
        "array([ 15.,   5.])"
       ]
      }
     ],
     "prompt_number": 68
    },
    {
     "cell_type": "markdown",
     "metadata": {},
     "source": [
      "## Code Example 02: Least-squares fitting\n",
      "Very often we deal with some data that we want to fit to some sort of expected behavior. Say we have the following:"
     ]
    },
    {
     "cell_type": "code",
     "collapsed": false,
     "input": [
      "raw_data = \"\"\"\\\n",
      "3.1905781584582433,0.028208609537968457\n",
      "4.346895074946466,0.007160804747670053\n",
      "5.374732334047101,0.0046962988461934805\n",
      "8.201284796573875,0.0004614473299618756\n",
      "10.899357601713055,0.00005038370219939726\n",
      "16.295503211991434,4.377451812785309e-7\n",
      "21.82012847965739,3.0799922117601088e-9\n",
      "32.48394004282656,1.524776208284536e-13\n",
      "43.53319057815846,5.5012073588707224e-18\"\"\"\n",
      "\n",
      "type(raw_data)"
     ],
     "language": "python",
     "metadata": {},
     "outputs": [
      {
       "metadata": {},
       "output_type": "pyout",
       "prompt_number": 120,
       "text": [
        "str"
       ]
      }
     ],
     "prompt_number": 120
    },
    {
     "cell_type": "code",
     "collapsed": false,
     "input": [
      "# DATA WRANGLING: Let us work a little with raw_data to make it mathematically acceptable\n",
      "\n",
      "data = []\n",
      "for line in raw_data.splitlines():\n",
      "    words = line.split(',')\n",
      "    data.append(map(float,words))\n",
      "data = np.array(data)\n",
      "print data"
     ],
     "language": "python",
     "metadata": {},
     "outputs": [
      {
       "output_type": "stream",
       "stream": "stdout",
       "text": [
        "[[  3.19057816e+00   2.82086095e-02]\n",
        " [  4.34689507e+00   7.16080475e-03]\n",
        " [  5.37473233e+00   4.69629885e-03]\n",
        " [  8.20128480e+00   4.61447330e-04]\n",
        " [  1.08993576e+01   5.03837022e-05]\n",
        " [  1.62955032e+01   4.37745181e-07]\n",
        " [  2.18201285e+01   3.07999221e-09]\n",
        " [  3.24839400e+01   1.52477621e-13]\n",
        " [  4.35331906e+01   5.50120736e-18]]\n"
       ]
      }
     ],
     "prompt_number": 119
    },
    {
     "cell_type": "code",
     "collapsed": false,
     "input": [
      "# DATA VISUALIZATION: How these data looks like... \n",
      "\n",
      "plt.title(\"Raw Data\")\n",
      "plt.xlabel(\"Distance\")\n",
      "plt.plot(data[:,0],data[:,1],'bo')\n"
     ],
     "language": "python",
     "metadata": {},
     "outputs": [
      {
       "metadata": {},
       "output_type": "pyout",
       "prompt_number": 126,
       "text": [
        "[<matplotlib.lines.Line2D at 0x7fa35b0>]"
       ]
      },
      {
       "metadata": {},
       "output_type": "display_data",
       "png": "[encoded data removed]",
       "text": [
        "<matplotlib.figure.Figure at 0x7005670>"
       ]
      }
     ],
     "prompt_number": 126
    },
    {
     "cell_type": "code",
     "collapsed": false,
     "input": [
      "plt.title(\"Raw Data\")\n",
      "plt.xlabel(\"Distance\")\n",
      "plt.semilogy(data[:,0],data[:,1],'bo')"
     ],
     "language": "python",
     "metadata": {},
     "outputs": [
      {
       "metadata": {},
       "output_type": "pyout",
       "prompt_number": 125,
       "text": [
        "[<matplotlib.lines.Line2D at 0x7dd3510>]"
       ]
      },
      {
       "metadata": {},
       "output_type": "display_data",
       "png": "[encoded data removed]",
       "text": [
        "<matplotlib.figure.Figure at 0x703a070>"
       ]
      }
     ],
     "prompt_number": 125
    },
    {
     "cell_type": "markdown",
     "metadata": {},
     "source": [
      "For a pure exponential decay like this, we can fit the log of the data to a straight line. The above plot suggests this is a good approximation. Given a function\n",
      "$$ y = Ae^{-ax} $$\n",
      "$$ \\log(y) = \\log(A) - ax$$\n",
      "Thus, if we fit the log of the data versus x, we should get a straight line with slope $a$, and an intercept that gives the constant $A$.\n",
      "\n",
      "There's a numpy function called **polyfit** that will fit data to a polynomial form. We'll use this to fit to a straight line (a polynomial of order 1)"
     ]
    },
    {
     "cell_type": "code",
     "collapsed": false,
     "input": [
      "params = np.polyfit(data[:,0],np.log(data[:,1]),1)\n",
      "a = params[0]\n",
      "A = np.exp(params[1])"
     ],
     "language": "python",
     "metadata": {},
     "outputs": [],
     "prompt_number": 129
    },
    {
     "cell_type": "code",
     "collapsed": false,
     "input": [
      "x = np.linspace(1,45)\n",
      "plt.title(\"Raw Data\")\n",
      "plt.xlabel(\"Distance\")\n",
      "plt.semilogy(data[:,0],data[:,1],'bo')\n",
      "plt.semilogy(x,A*np.exp(a*x),'b-')"
     ],
     "language": "python",
     "metadata": {},
     "outputs": [
      {
       "metadata": {},
       "output_type": "pyout",
       "prompt_number": 131,
       "text": [
        "[<matplotlib.lines.Line2D at 0x7d189d0>]"
       ]
      },
      {
       "metadata": {},
       "output_type": "display_data",
       "png": "[encoded data removed]",
       "text": [
        "<matplotlib.figure.Figure at 0x5c84cd0>"
       ]
      }
     ],
     "prompt_number": 131
    },
    {
     "cell_type": "markdown",
     "metadata": {},
     "source": [
      "Let us consider another example a little bit more complicate:"
     ]
    },
    {
     "cell_type": "code",
     "collapsed": false,
     "input": [
      "gauss_data = \"\"\"\\\n",
      "-0.9902286902286903,1.4065274110372852e-19\n",
      "-0.7566104566104566,2.2504438576596563e-18\n",
      "-0.5117810117810118,1.9459459459459454\n",
      "-0.31887271887271884,10.621621621621626\n",
      "-0.250997150997151,15.891891891891893\n",
      "-0.1463309463309464,23.756756756756754\n",
      "-0.07267267267267263,28.135135135135133\n",
      "-0.04426734426734419,29.02702702702703\n",
      "-0.0015939015939017698,29.675675675675677\n",
      "0.04689304689304685,29.10810810810811\n",
      "0.0840994840994842,27.324324324324326\n",
      "0.1700546700546699,22.216216216216214\n",
      "0.370878570878571,7.540540540540545\n",
      "0.5338338338338338,1.621621621621618\n",
      "0.722014322014322,0.08108108108108068\n",
      "0.9926849926849926,-0.08108108108108646\"\"\"\n",
      "\n",
      "data = []\n",
      "for line in gauss_data.splitlines():\n",
      "    words = line.split(',')\n",
      "    data.append(map(float,words))\n",
      "data = np.array(data)\n",
      "\n",
      "plt.plot(data[:,0],data[:,1],'bo')"
     ],
     "language": "python",
     "metadata": {},
     "outputs": [
      {
       "metadata": {},
       "output_type": "pyout",
       "prompt_number": 132,
       "text": [
        "[<matplotlib.lines.Line2D at 0x7ed9250>]"
       ]
      },
      {
       "metadata": {},
       "output_type": "display_data",
       "png": "[encoded data removed]",
       "text": [
        "<matplotlib.figure.Figure at 0x7d44dd0>"
       ]
      }
     ],
     "prompt_number": 132
    },
    {
     "cell_type": "markdown",
     "metadata": {},
     "source": [
      "let's use the **curve_fit** function from Scipy, which can fit to arbitrary functions. You can learn more using help(curve_fit).\n",
      "\n",
      "First define a general Gaussian function to fit to."
     ]
    },
    {
     "cell_type": "code",
     "collapsed": false,
     "input": [
      "def gauss(x,A,a): return A*np.exp(a*x**2)"
     ],
     "language": "python",
     "metadata": {},
     "outputs": [],
     "prompt_number": 135
    },
    {
     "cell_type": "code",
     "collapsed": false,
     "input": [
      "from scipy.optimize import curve_fit\n",
      "\n",
      "params,conv = curve_fit(gauss,data[:,0],data[:,1])\n",
      "x = np.linspace(-1,1)\n",
      "plt.plot(data[:,0],data[:,1],'bo')\n",
      "A,a = params\n",
      "plt.plot(x,gauss(x,A,a),'b-')"
     ],
     "language": "python",
     "metadata": {},
     "outputs": [
      {
       "metadata": {},
       "output_type": "pyout",
       "prompt_number": 136,
       "text": [
        "[<matplotlib.lines.Line2D at 0x8598790>]"
       ]
      },
      {
       "metadata": {},
       "output_type": "display_data",
       "png": "[encoded data removed]",
       "text": [
        "<matplotlib.figure.Figure at 0x7fae190>"
       ]
      }
     ],
     "prompt_number": 136
    },
    {
     "cell_type": "markdown",
     "metadata": {},
     "source": [
      "## Code Example 03: Monte-Carlo simulation and $\\pi$ computation\n",
      "Python has good random number generators in the standard library. The **random()** function gives pseudorandom numbers uniformly distributed between 0 and 1:"
     ]
    },
    {
     "cell_type": "code",
     "collapsed": false,
     "input": [
      "from random import random\n",
      "rands = []\n",
      "for i in range(100):\n",
      "    rands.append(random())\n",
      "plt.plot(rands)"
     ],
     "language": "python",
     "metadata": {},
     "outputs": [
      {
       "metadata": {},
       "output_type": "pyout",
       "prompt_number": 137,
       "text": [
        "[<matplotlib.lines.Line2D at 0x84f2f70>]"
       ]
      },
      {
       "metadata": {},
       "output_type": "display_data",
       "png": "[encoded data removed]",
       "text": [
        "<matplotlib.figure.Figure at 0x86d8050>"
       ]
      }
     ],
     "prompt_number": 137
    },
    {
     "cell_type": "markdown",
     "metadata": {},
     "source": [
      "**random()** uses the [Mersenne Twister](http://www.math.sci.hiroshima-u.ac.jp/~m-mat/MT/emt.html) algorithm, which is a highly regarded pseudorandom number generator. There are also functions to generate random integers, to randomly shuffle a list, and functions to pick random numbers from a particular distribution, like the normal distribution:"
     ]
    },
    {
     "cell_type": "code",
     "collapsed": false,
     "input": [
      "from random import gauss\n",
      "grands = []\n",
      "for i in range(100):\n",
      "    grands.append(gauss(0,1))\n",
      "plt.plot(grands)"
     ],
     "language": "python",
     "metadata": {},
     "outputs": [
      {
       "metadata": {},
       "output_type": "pyout",
       "prompt_number": 139,
       "text": [
        "[<matplotlib.lines.Line2D at 0x8961f30>]"
       ]
      },
      {
       "metadata": {},
       "output_type": "display_data",
       "png": "[encoded data removed]",
       "text": [
        "<matplotlib.figure.Figure at 0x80a85d0>"
       ]
      }
     ],
     "prompt_number": 139
    },
    {
     "cell_type": "markdown",
     "metadata": {},
     "source": [
      "Here you have an interesting program to compute $\\pi$ by taking random numbers as x and y coordinates, and counting how many of them were in the unit circle. For example:"
     ]
    },
    {
     "cell_type": "code",
     "collapsed": false,
     "input": [
      "npts = 5000\n",
      "xs = 2*np.random.rand(npts)-1\n",
      "ys = 2*np.random.rand(npts)-1\n",
      "r = xs**2+ys**2\n",
      "ninside = (r<1).sum()\n",
      "# figsize(6,6) # make the figure square\n",
      "plt.title(\"Approximation to pi = %f\" % (4*ninside/float(npts)))\n",
      "plt.plot(xs[r<1],ys[r<1],'r.')\n",
      "plt.plot(xs[r>1],ys[r>1],'y.')\n",
      "#figsize(8,6) # change the figsize back to 4x3 for the rest of the notebook"
     ],
     "language": "python",
     "metadata": {},
     "outputs": [
      {
       "metadata": {},
       "output_type": "pyout",
       "prompt_number": 155,
       "text": [
        "[<matplotlib.lines.Line2D at 0xd080a50>]"
       ]
      },
      {
       "metadata": {},
       "output_type": "display_data",
       "png": "[encoded data removed]",
       "text": [
        "<matplotlib.figure.Figure at 0xcf31b50>"
       ]
      }
     ],
     "prompt_number": 155
    },
    {
     "cell_type": "markdown",
     "metadata": {},
     "source": [
      "#Further reading\n",
      "\n",
      "* http://www.python.org - The official web page of the Python programming language.\n",
      "* http://www.python.org/dev/peps/pep-0008 - Style guide for Python programming. Highly recommended. \n",
      "* http://www.greenteapress.com/thinkpython/ - A free book on Python programming.\n",
      "* [Python Essential Reference](http://www.amazon.com/Python-Essential-Reference-4th-Edition/dp/0672329786) - A good reference book on Python programming."
     ]
    },
    {
     "cell_type": "code",
     "collapsed": false,
     "input": [],
     "language": "python",
     "metadata": {},
     "outputs": []
    }
   ],
   "metadata": {}
  }
 ]
}